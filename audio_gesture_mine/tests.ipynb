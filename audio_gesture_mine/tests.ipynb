{
 "cells": [
  {
   "cell_type": "code",
   "execution_count": 102,
   "metadata": {},
   "outputs": [],
   "source": [
    "import torch\n",
    "from torch import nn\n",
    "from torch.nn import functional as F\n",
    "import time\n"
   ]
  },
  {
   "cell_type": "code",
   "execution_count": 153,
   "metadata": {},
   "outputs": [
    {
     "name": "stdout",
     "output_type": "stream",
     "text": [
      "0.0003712177276611328\n"
     ]
    },
    {
     "data": {
      "text/plain": [
       "2236432"
      ]
     },
     "execution_count": 153,
     "metadata": {},
     "output_type": "execute_result"
    }
   ],
   "source": [
    "class M(nn.Module):\n",
    "    def __init__(self):\n",
    "        super(M, self).__init__()\n",
    "        emb_dim = 8192\n",
    "        self.l1 = nn.Linear(256, emb_dim)\n",
    "        self.l2 = nn.Linear(emb_dim, 16)\n",
    "    def forward(self, x):\n",
    "        x = F.relu_(self.l1(x))\n",
    "        x = F.relu_(self.l2(x))\n",
    "        return x\n",
    "    \n",
    "m = M()\n",
    "\n",
    "x = torch.rand(256)\n",
    "t = time.time()\n",
    "m(x)\n",
    "t = time.time()-t\n",
    "print(t)\n",
    "\n",
    "sum(p.numel() for p in m.parameters() if p.requires_grad)"
   ]
  }
 ],
 "metadata": {
  "kernelspec": {
   "display_name": "musicai",
   "language": "python",
   "name": "python3"
  },
  "language_info": {
   "codemirror_mode": {
    "name": "ipython",
    "version": 3
   },
   "file_extension": ".py",
   "mimetype": "text/x-python",
   "name": "python",
   "nbconvert_exporter": "python",
   "pygments_lexer": "ipython3",
   "version": "3.8.18"
  }
 },
 "nbformat": 4,
 "nbformat_minor": 2
}
